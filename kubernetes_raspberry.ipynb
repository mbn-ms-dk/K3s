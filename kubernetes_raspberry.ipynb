{
 "cells": [
  {
   "cell_type": "markdown",
   "metadata": {},
   "source": [
    "# Installing **kubernetes** on Raspberry Pi cluster\n",
    "\n",
    "I am not sure where this exercise will take me, but I want to install a kubernetes cluster on my Raspberry Pi's.\n",
    "This article will go through the pre-requisites, the tools I use and show how to accomplish this."
   ]
  },
  {
   "cell_type": "markdown",
   "metadata": {},
   "source": [
    "## Tools\n",
    "* SDCard adapter\n",
    "* [Raspberry Pi Imager](https://www.raspberrypi.com/software/)\n",
    "* SSH client to connect (I use [MTPutty](https://ttyplus.com/multi-tabbed-putty/))"
   ]
  },
  {
   "cell_type": "markdown",
   "metadata": {},
   "source": [
    "## Install k3s on Raspberry Pi"
   ]
  },
  {
   "cell_type": "markdown",
   "metadata": {},
   "source": [
    "### Configure Raspberry PI for ssh\n",
    "\n",
    "1. Open Raspberry Pi Imager\n",
    "2. Select \"Choose Image\" and selct \"Raspberry Pi (Other)\"\n",
    "3. Choose \"Raspberry Pi OS lite\"\n",
    "4. Select Micro SD Card on \"Choose Storage\"\n",
    "5. Click Write and confirm\n",
    "\n",
    "![RP Imager](./videos/rpImager.gif)\n",
    "\n",
    "6. When done, insert the SD Card into the Raspberry PI and boot. Wait until booted (~5minutes).\n",
    "7. Take the SD Card and plugit back into the SD Card reader\n",
    "8. Now you'll see a \"Boot\" disk - open it\n",
    "9. Locate `cmdline.txt` and open it\n",
    "10. Add the following to the end of the line:\n",
    "\n",
    "```\n",
    "cgroup_memory=1 cgroup_enable=memory\n",
    "```\n",
    "\n",
    "11. Save and close\n",
    "12. Open `config.txt`\n",
    "13. Add the following to the end of the file:\n",
    "```\n",
    "arm_64bit=1\n",
    "```\n",
    "14. Save and close\n",
    "\n",
    "![Modify Files](./videos/modifyFiles.gif)\n",
    "\n",
    "15. Use Windows Terminal (Powershell) and navigate to boot again (in my case `d:\\`)\n",
    "16. Run command `new-item ssh`\n",
    "\n",
    "![Enable SSH](./videos/add_ssh.gif)\n",
    "\n",
    "17. Insert SD Card into Raspberry Pi and boot it.\n"
   ]
  },
  {
   "cell_type": "markdown",
   "metadata": {},
   "source": [
    "### Prepare for k3s\n",
    "\n",
    "1. ssh into the Pi\n",
    "\n",
    "```\n",
    "$ sudo ssh pi@[IP_ADRESS_ASSIGNED_TO_PI]\n",
    "$ sudo ssh pi@192.168.86.10\n",
    "```\n",
    "\n",
    "2. Enable IPTABLE - this is required for k3s (if not installed run `$ sudo apt install iptables`)\n",
    "\n",
    "```\n",
    "$ sudo iptables -F\n",
    "```\n",
    "\n",
    "3. Reboot\n",
    "\n",
    "```\n",
    "$ reboot\n",
    "```\n",
    "\n",
    "> This will disconnect your ssh session, but reconnect when rebooted\n",
    "\n",
    "![IPTABLES](./videos/iptables.gif)\n",
    "\n",
    "and now you are ready :)\n"
   ]
  },
  {
   "cell_type": "markdown",
   "metadata": {},
   "source": [
    "### Install k3s on first node\n",
    "\n",
    "1. Download and install by running the following command\n",
    "\n",
    "```bash\n",
    "$ sudo curl -sfL https://get.k3s.io | K3S_KUBECONFIG_MODE=”644” sh -\n",
    "```\n",
    "\n",
    "![Install main](./videos/maininstall.gif)\n",
    "\n",
    "2. Verify by running `$ sudo kubectl get nodes`\n",
    "\n",
    "![Verify](./videos/Verify_main.gif)\n"
   ]
  }
 ],
 "metadata": {
  "kernelspec": {
   "display_name": ".NET (C#)",
   "language": "C#",
   "name": ".net-csharp"
  },
  "language_info": {
   "file_extension": ".cs",
   "mimetype": "text/x-csharp",
   "name": "C#",
   "pygments_lexer": "csharp",
   "version": "9.0"
  },
  "orig_nbformat": 4
 },
 "nbformat": 4,
 "nbformat_minor": 2
}
